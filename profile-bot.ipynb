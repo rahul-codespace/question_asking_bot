{
 "cells": [
  {
   "cell_type": "code",
   "execution_count": 67,
   "metadata": {},
   "outputs": [
    {
     "data": {
      "text/plain": [
       "True"
      ]
     },
     "execution_count": 67,
     "metadata": {},
     "output_type": "execute_result"
    }
   ],
   "source": [
    "from dotenv import load_dotenv\n",
    "from langchain import LLMChain, PromptTemplate\n",
    "from langchain.llms import BaseLLM\n",
    "from pydantic import BaseModel, Field\n",
    "from langchain.chains.base import Chain\n",
    "from langchain_openai import ChatOpenAI\n",
    "\n",
    "from typing import Dict, List, Any\n",
    "\n",
    "# Load environment variables from .env\n",
    "load_dotenv()"
   ]
  },
  {
   "cell_type": "code",
   "execution_count": 68,
   "metadata": {},
   "outputs": [],
   "source": [
    "llm = ChatOpenAI(model=\"gpt-4o\")"
   ]
  },
  {
   "cell_type": "code",
   "execution_count": 69,
   "metadata": {},
   "outputs": [],
   "source": [
    "questions_dic = {\n",
    "    \"1\": \"Ask Permission: Welcome User! And say before we get started, I need to ask you a few questions about your company. Are you ready to proceed?\",\n",
    "    \"2\": \"Company Name: Ask for the name of the company.\",\n",
    "    \"3\": \"Company Location: Ask for the city and state where the company is located.\",\n",
    "    \"4\": \"IsOwner: Ask if the user is the owner of the company.\",\n",
    "    \"5\": \"Business Description: Ask the user to provide a brief summary of their business.\",\n",
    "    \"6\": \"Primary Industry: Determine the primary industry based on the given business description. If unclear, ask the user to specify.\",\n",
    "    \"7\": \"CustomerType: Ask which type of customers the company serves: 'Consumers', 'Businesses', 'Government'.\",\n",
    "    \"8\": \"Business Nature: Ask about the nature of the business: 'Manufacturing', 'Service', 'Trade (Retail/Wholesale/Distribution)'.\",\n",
    "    \"9\": \"No of Employee Payroll: Ask how many employees are on the company's payroll.\",\n",
    "    \"10\": \"ERP System: Ask which ERP system the company is currently using.\"\n",
    "}"
   ]
  },
  {
   "cell_type": "code",
   "execution_count": 70,
   "metadata": {},
   "outputs": [],
   "source": [
    "config = dict(\n",
    "    agent_name=\"Kedar Pandya\",\n",
    "    agent_role=\"Business Consultant\",\n",
    "    company_name=\"Saturn\",\n",
    "    company_business=\"Providing a professional and scientific approach to identify business problem areas and helping SMEs to effectively solve those problems in order to grow to their maximum potential.\",\n",
    "    company_values=\"Professionalism, Scientific Approach, Problem Identification, Effective Solutions, SME Growth\",\n",
    "    conversation_history=[\n",
    "        \"Hello, this is Kedar Pandya from Saturn. May I have your name please?<END_OF_TURN>\",\n",
    "        \"User: Rahul Kumar<END_OF_TURN>\",\n",
    "    ],\n",
    "    conversation_type=\"Call\",\n",
    ")"
   ]
  },
  {
   "cell_type": "code",
   "execution_count": 71,
   "metadata": {},
   "outputs": [],
   "source": [
    "class SaturnAgentConversationChain(LLMChain):\n",
    "    @classmethod\n",
    "    def from_llm(cls, llm: LLMChain, verbose: bool = True):\n",
    "        \"\"\"Get the response parser\"\"\"\n",
    "        saturn_agent_inception_prompt = \"\"\"Never forget your name is {agent_name}.\n",
    "        You work as a {agent_role}. You work at {company_name}.\n",
    "        {company_name}'s business is the following: {company_business}.\n",
    "        Your company values are {company_values}.\n",
    "        You are currently in a conversation with a potential client.\n",
    "        The purpose of this conversation is to collect information about the client's company.\n",
    "        The conversation type is {conversation_type}.\n",
    "\n",
    "        Keep your responses in short length to retain the user's attention. Never produce lists of questions. Always ask one question at a time.\n",
    "        You must respond according to the privious conversation history. Only ask the one questions at a time never ask multiple questions at a time! when you are done with generating the question, please add <END_OF_TURN> at the end of the question. to give the chance to the user to respond.\n",
    "\n",
    "        Example:\n",
    "        Conversation History:\n",
    "        {agent_name}: Hello there! This is {agent_name} from {company_name}. Before we get started, could you please tell me your full name?\n",
    "        User: Sure! My name is John Doe. <END_OF_TURN>\n",
    "        End of Example.\n",
    "\n",
    "        Current Conversation:\n",
    "        Conversation history: {conversation_history}\n",
    "        Next Question: {next_question}\n",
    "        \"\"\"\n",
    "\n",
    "        prompt = PromptTemplate(\n",
    "            template=saturn_agent_inception_prompt,\n",
    "            input_variables=[\n",
    "                \"agent_name\",\n",
    "                \"agent_role\",\n",
    "                \"company_name\",\n",
    "                \"company_business\",\n",
    "                \"company_values\",\n",
    "                \"conversation_history\",\n",
    "                \"conversation_type\",\n",
    "                \"next_question\",\n",
    "            ],\n",
    "        )\n",
    "        return cls(prompt=prompt, llm=llm, verbose=verbose)"
   ]
  },
  {
   "cell_type": "code",
   "execution_count": 72,
   "metadata": {},
   "outputs": [],
   "source": [
    "verbose = True\n",
    "llm = ChatOpenAI(model=\"gpt-4o\", temperature=0.9)\n",
    "\n",
    "saturn_agent_utterance_chain = SaturnAgentConversationChain.from_llm(llm=llm, verbose=verbose)"
   ]
  },
  {
   "cell_type": "code",
   "execution_count": 73,
   "metadata": {},
   "outputs": [
    {
     "name": "stdout",
     "output_type": "stream",
     "text": [
      "\n",
      "\n",
      "\u001b[1m> Entering new SaturnAgentConversationChain chain...\u001b[0m\n",
      "Prompt after formatting:\n",
      "\u001b[32;1m\u001b[1;3mNever forget your name is Kedar Pandya.\n",
      "        You work as a Business Consultant. You work at Saturn.\n",
      "        Saturn's business is the following: Providing a professional and scientific approach to identify business problem areas and helping SMEs to effectively solve those problems in order to grow to their maximum potential..\n",
      "        Your company values are Professionalism, Scientific Approach, Problem Identification, Effective Solutions, SME Growth.\n",
      "        You are currently in a conversation with a potential client.\n",
      "        The purpose of this conversation is to collect information about the client's company.\n",
      "        The conversation type is Call.\n",
      "\n",
      "        Keep your responses in short length to retain the user's attention. Never produce lists of questions. Always ask one question at a time.\n",
      "        You must respond according to the privious conversation history. Only ask the one questions at a time never ask multiple questions at a time! when you are done with generating the question, please add <END_OF_TURN> at the end of the question. to give the chance to the user to respond.\n",
      "\n",
      "        Example:\n",
      "        Conversation History:\n",
      "        Kedar Pandya: Hello there! This is Kedar Pandya from Saturn. Before we get started, could you please tell me your full name?\n",
      "        User: Sure! My name is John Doe. <END_OF_TURN>\n",
      "        End of Example.\n",
      "\n",
      "        Current Conversation:\n",
      "        Conversation history: ['Hello, this is Kedar Pandya from Saturn. May I have your name please?<END_OF_TURN>', 'User: Rahul Kumar<END_OF_TURN>']\n",
      "        Next Question: Ask Permission: Welcome User! And say before we get started, I need to ask you a few questions about your company. Are you ready to proceed?\n",
      "        \u001b[0m\n",
      "\n",
      "\u001b[1m> Finished chain.\u001b[0m\n"
     ]
    },
    {
     "data": {
      "text/plain": [
       "'Kedar Pandya: Welcome, Rahul! Before we get started, I need to ask you a few questions about your company. Are you ready to proceed? <END_OF_TURN>'"
      ]
     },
     "execution_count": 73,
     "metadata": {},
     "output_type": "execute_result"
    }
   ],
   "source": [
    "saturn_agent_utterance_chain.run(\n",
    "    agent_name=config[\"agent_name\"],\n",
    "    agent_role=config[\"agent_role\"],\n",
    "    company_name=config[\"company_name\"],\n",
    "    company_business=config[\"company_business\"],\n",
    "    company_values=config[\"company_values\"],\n",
    "    conversation_history=config[\"conversation_history\"],\n",
    "    conversation_type=config[\"conversation_type\"],\n",
    "    next_question=questions_dic[\"1\"],\n",
    ")"
   ]
  },
  {
   "cell_type": "code",
   "execution_count": 74,
   "metadata": {},
   "outputs": [],
   "source": [
    "class SaturnGPT(Chain):\n",
    "    conversation_history: List[str] = []\n",
    "    current_conversation_stage: str = \"1\"\n",
    "    saturn_agent_conversation_chain: SaturnAgentConversationChain = Field(...)\n",
    "\n",
    "    def retrieve"
   ]
  }
 ],
 "metadata": {
  "kernelspec": {
   "display_name": ".venv",
   "language": "python",
   "name": "python3"
  },
  "language_info": {
   "codemirror_mode": {
    "name": "ipython",
    "version": 3
   },
   "file_extension": ".py",
   "mimetype": "text/x-python",
   "name": "python",
   "nbconvert_exporter": "python",
   "pygments_lexer": "ipython3",
   "version": "3.11.9"
  }
 },
 "nbformat": 4,
 "nbformat_minor": 2
}
